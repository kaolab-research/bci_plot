{
 "cells": [
  {
   "cell_type": "code",
   "execution_count": 1,
   "id": "0fe75a16",
   "metadata": {},
   "outputs": [],
   "source": [
    "import pickle\n",
    "import pathlib"
   ]
  },
  {
   "cell_type": "code",
   "execution_count": 2,
   "id": "6c6a7bde",
   "metadata": {},
   "outputs": [],
   "source": [
    "from bci_plot.metadata import sessions_info_w_day\n",
    "from bci_plot.utils import eeg_stats"
   ]
  },
  {
   "cell_type": "code",
   "execution_count": 3,
   "id": "aaddaf4b",
   "metadata": {},
   "outputs": [],
   "source": [
    "dest_dir = pathlib.Path('../../data/adaptation')"
   ]
  },
  {
   "cell_type": "code",
   "execution_count": 4,
   "id": "a45160ea",
   "metadata": {},
   "outputs": [],
   "source": [
    "sixteen_s_sessions = [\n",
    "    '2024-02-13_H1_CL_2',\n",
    "    '2024-02-02_H2_CL_4',\n",
    "    '2024-03-01_H4_CL_2',\n",
    "    '2024-02-12_S2_CL_4',\n",
    "    '2024-02-21_S2_CL_4',\n",
    "    '2024-02-21_S2_CL_6',\n",
    "]\n",
    "\n",
    "for (session, *_) in sessions_info_w_day.sessions_info:\n",
    "    timeout_time = 16.0 if session in sixteen_s_sessions else 24.0\n",
    "    session_stats = eeg_stats.get_stats(session, timeout_time=timeout_time)\n",
    "    with open(dest_dir / f'{session}.pickle', 'wb') as f:\n",
    "        pickle.dump(session_stats, f)"
   ]
  },
  {
   "cell_type": "code",
   "execution_count": null,
   "id": "13438484",
   "metadata": {},
   "outputs": [],
   "source": []
  }
 ],
 "metadata": {
  "kernelspec": {
   "display_name": "Python 3 (ipykernel)",
   "language": "python",
   "name": "python3"
  },
  "language_info": {
   "codemirror_mode": {
    "name": "ipython",
    "version": 3
   },
   "file_extension": ".py",
   "mimetype": "text/x-python",
   "name": "python",
   "nbconvert_exporter": "python",
   "pygments_lexer": "ipython3",
   "version": "3.8.10"
  }
 },
 "nbformat": 4,
 "nbformat_minor": 5
}
