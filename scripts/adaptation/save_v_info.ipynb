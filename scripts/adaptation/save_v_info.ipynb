{
 "cells": [
  {
   "cell_type": "markdown",
   "id": "ec641cf5",
   "metadata": {},
   "source": [
    "### Violin plot info"
   ]
  },
  {
   "cell_type": "code",
   "execution_count": 1,
   "id": "8111ba4d",
   "metadata": {},
   "outputs": [],
   "source": [
    "import numpy as np\n",
    "import pickle\n",
    "import matplotlib.pyplot as plt\n",
    "import pathlib\n",
    "import ast\n",
    "import scipy.stats\n",
    "\n",
    "import pickle"
   ]
  },
  {
   "cell_type": "code",
   "execution_count": 2,
   "id": "7b5e83e2",
   "metadata": {},
   "outputs": [],
   "source": [
    "from bci_plot.utils import data_util\n",
    "from bci_plot.metadata import sessions_info_w_day\n",
    "from bci_plot.gen_data.adaptation import get_v\n",
    "from bci_plot.gen_fig.adaptation import violin_util"
   ]
  },
  {
   "cell_type": "code",
   "execution_count": 3,
   "id": "36571769",
   "metadata": {},
   "outputs": [],
   "source": [
    "src_dir = pathlib.Path('../../data/adaptation')"
   ]
  },
  {
   "cell_type": "code",
   "execution_count": 4,
   "id": "70aeefe0",
   "metadata": {},
   "outputs": [],
   "source": [
    "stats = {}\n",
    "for (session, decoder_name, fold, subject, subject_day) in sessions_info_w_day.sessions_info:\n",
    "    if subject not in stats:\n",
    "        stats[subject] = []\n",
    "    # Assumes the metadata is already ordered!\n",
    "    while len(stats[subject]) <= subject_day:\n",
    "        stats[subject].append([])\n",
    "    with open(src_dir / f'{session}.pickle', 'rb') as f:\n",
    "        session_stats = pickle.load(f)\n",
    "        session_stats['header'] = (session, decoder_name, fold, subject, subject_day)\n",
    "        session_stats['v_info'] = get_v.get_v(session) # valid velocity info.\n",
    "        stats[subject][subject_day].append(session_stats)"
   ]
  },
  {
   "cell_type": "code",
   "execution_count": 5,
   "id": "6732811b",
   "metadata": {},
   "outputs": [],
   "source": [
    "def dict_cat(ds, axis=0):\n",
    "    '''\n",
    "    ds: dictionaries\n",
    "    '''\n",
    "    keys = list(ds[0].keys())\n",
    "    \n",
    "    return {key: np.concatenate([d[key] for d in ds], axis=axis) for key in keys}"
   ]
  },
  {
   "cell_type": "code",
   "execution_count": 6,
   "id": "1814a7e8",
   "metadata": {},
   "outputs": [],
   "source": [
    "day_v_stats = {}\n",
    "for subject in stats.keys():\n",
    "    day_v_stats[subject] = {\n",
    "        'pts': [dict_cat([item['v_info'] for item in day_stats]) for day_stats in stats[subject]]\n",
    "    }"
   ]
  },
  {
   "cell_type": "code",
   "execution_count": 7,
   "id": "99c9dba7",
   "metadata": {},
   "outputs": [],
   "source": [
    "w = np.array([[1.0, -1, 0, 0], [0, 0, 1, -1]])"
   ]
  },
  {
   "cell_type": "code",
   "execution_count": 8,
   "id": "a3ac15b1",
   "metadata": {},
   "outputs": [],
   "source": [
    "violin_info = {}\n",
    "for subject in stats.keys():\n",
    "    violin_info[subject] = {}\n",
    "    violin_info[subject]['x_info_kf'] = [violin_util.get_violin_points(pts['valid_kf_vel']@w[0].T)[0] for pts in day_v_stats[subject]['pts']]\n",
    "    violin_info[subject]['y_info_kf'] = [violin_util.get_violin_points(pts['valid_kf_vel']@w[1].T)[0] for pts in day_v_stats[subject]['pts']]\n",
    "    violin_info[subject]['x_info_eegnet'] = [violin_util.get_violin_points(pts['valid_rlud_decoder_output']@w[0].T)[0] for pts in day_v_stats[subject]['pts']]\n",
    "    violin_info[subject]['y_info_eegnet'] = [violin_util.get_violin_points(pts['valid_rlud_decoder_output']@w[1].T)[0] for pts in day_v_stats[subject]['pts']]\n",
    "with open('../../data/adaptation/violin_info.pickle', 'wb') as f:\n",
    "    pickle.dump(violin_info, f)"
   ]
  },
  {
   "cell_type": "code",
   "execution_count": null,
   "id": "c921c25f",
   "metadata": {},
   "outputs": [],
   "source": []
  }
 ],
 "metadata": {
  "kernelspec": {
   "display_name": "Python 3 (ipykernel)",
   "language": "python",
   "name": "python3"
  },
  "language_info": {
   "codemirror_mode": {
    "name": "ipython",
    "version": 3
   },
   "file_extension": ".py",
   "mimetype": "text/x-python",
   "name": "python",
   "nbconvert_exporter": "python",
   "pygments_lexer": "ipython3",
   "version": "3.8.10"
  }
 },
 "nbformat": 4,
 "nbformat_minor": 5
}
