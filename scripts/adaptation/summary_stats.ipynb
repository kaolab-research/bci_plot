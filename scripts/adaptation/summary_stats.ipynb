{
 "cells": [
  {
   "cell_type": "code",
   "execution_count": 1,
   "id": "36cf40bd",
   "metadata": {},
   "outputs": [],
   "source": [
    "import numpy as np\n",
    "import pickle\n",
    "import matplotlib.pyplot as plt\n",
    "import pathlib\n",
    "import ast\n",
    "import scipy.stats"
   ]
  },
  {
   "cell_type": "code",
   "execution_count": 2,
   "id": "0fcba983",
   "metadata": {},
   "outputs": [],
   "source": [
    "from bci_plot.utils import data_util\n",
    "from bci_plot.metadata import sessions_info_w_day\n",
    "from bci_plot.gen_fig.adaptation import gen_fitts_fig"
   ]
  },
  {
   "cell_type": "code",
   "execution_count": 3,
   "id": "542d75c3",
   "metadata": {},
   "outputs": [],
   "source": [
    "src_dir = pathlib.Path('../../data/adaptation')"
   ]
  },
  {
   "cell_type": "code",
   "execution_count": 4,
   "id": "c63ae14f",
   "metadata": {},
   "outputs": [],
   "source": [
    "stats = {}\n",
    "for (session, decoder_name, fold, subject, subject_day) in sessions_info_w_day.sessions_info:\n",
    "    if subject not in stats:\n",
    "        stats[subject] = []\n",
    "    # Assumes the metadata is already ordered!\n",
    "    while len(stats[subject]) <= subject_day:\n",
    "        stats[subject].append([])\n",
    "    with open(src_dir / f'{session}.pickle', 'rb') as f:\n",
    "        session_stats = pickle.load(f)\n",
    "        session_stats['header'] = (session, decoder_name, fold, subject, subject_day)\n",
    "        stats[subject][subject_day].append(session_stats)"
   ]
  },
  {
   "cell_type": "code",
   "execution_count": 5,
   "id": "cce044fb",
   "metadata": {},
   "outputs": [],
   "source": [
    "def cat(x):\n",
    "    if len(x) == 0:\n",
    "        return np.zeros(0)\n",
    "    return np.concatenate(x)"
   ]
  },
  {
   "cell_type": "code",
   "execution_count": 6,
   "id": "dee2bfaf",
   "metadata": {},
   "outputs": [],
   "source": [
    "compiled_stats = {subject: dict() for subject in stats}\n",
    "for subject, subject_stats in stats.items():\n",
    "    compiled_stats[subject]['day_bps'] = [cat([session_stats['block_bps'] for session_stats in day_stats]) for day_stats in subject_stats]\n",
    "    compiled_stats[subject]['day_bps_ftt'] = [cat([session_stats['block_bps_ftt'] for session_stats in day_stats]) for day_stats in subject_stats]\n",
    "    compiled_stats[subject]['day_success'] = [cat([session_stats['block_success'] for session_stats in day_stats]) for day_stats in subject_stats]\n",
    "    compiled_stats[subject]['day_ttt'] = [cat([session_stats['block_ttt'] for session_stats in day_stats]) for day_stats in subject_stats]\n",
    "    compiled_stats[subject]['day_is_eval'] = [cat([session_stats['block_is_eval'] for session_stats in day_stats]) for day_stats in subject_stats]\n",
    "    compiled_stats[subject]['day_td'] = [cat([session_stats['block_td'] for session_stats in day_stats]) for day_stats in subject_stats]\n",
    "    compiled_stats[subject]['decoder_name'] = [cat([[session_stats['header'][1]]*len(session_stats['block_bps']) for session_stats in day_stats]) for day_stats in subject_stats]\n",
    "    pass"
   ]
  },
  {
   "cell_type": "code",
   "execution_count": 24,
   "id": "e203da6d",
   "metadata": {},
   "outputs": [
    {
     "name": "stdout",
     "output_type": "stream",
     "text": [
      "subject | BPS (acq) | BPS (ftt)\n",
      "S2      |    0.1590 |    0.1760\n",
      "H1      |    0.2454 |    0.3538\n",
      "H2      |    0.2057 |    0.2384\n",
      "H4      |    0.2040 |    0.2823\n",
      "H avg   |    0.2184 |    0.2915\n"
     ]
    }
   ],
   "source": [
    "day_idx = 4\n",
    "\n",
    "print('subject | BPS (acq) | BPS (ftt)')\n",
    "for subject in ['S2', 'H1', 'H2', 'H4']:\n",
    "    bps = compiled_stats[subject]['day_bps'][day_idx].mean()\n",
    "    bps_f = compiled_stats[subject]['day_bps_ftt'][day_idx].mean()\n",
    "    print(f'{subject:7} |    {bps:5.4f} |    {bps_f:5.4f}')\n",
    "bps_avg = np.mean([compiled_stats[subject]['day_bps'][day_idx].mean() for subject in ['H1', 'H2', 'H4']])\n",
    "bps_f_avg = np.mean([compiled_stats[subject]['day_bps_ftt'][day_idx].mean() for subject in ['H1', 'H2', 'H4']])\n",
    "print(f'{\"H avg\":7} |    {bps_avg:5.4f} |    {bps_f_avg:5.4f}')"
   ]
  }
 ],
 "metadata": {
  "kernelspec": {
   "display_name": "Python 3 (ipykernel)",
   "language": "python",
   "name": "python3"
  },
  "language_info": {
   "codemirror_mode": {
    "name": "ipython",
    "version": 3
   },
   "file_extension": ".py",
   "mimetype": "text/x-python",
   "name": "python",
   "nbconvert_exporter": "python",
   "pygments_lexer": "ipython3",
   "version": "3.8.10"
  }
 },
 "nbformat": 4,
 "nbformat_minor": 5
}
