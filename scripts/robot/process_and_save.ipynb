{
 "cells": [
  {
   "cell_type": "code",
   "execution_count": 1,
   "id": "bf8ace95",
   "metadata": {},
   "outputs": [],
   "source": [
    "import numpy as np\n",
    "import pickle\n",
    "import os"
   ]
  },
  {
   "cell_type": "code",
   "execution_count": 2,
   "id": "6b765fbc",
   "metadata": {},
   "outputs": [],
   "source": [
    "from bci_plot.gen_data.robot import process_logs\n",
    "from bci_plot.metadata import robot_sessions"
   ]
  },
  {
   "cell_type": "code",
   "execution_count": 3,
   "id": "e9443411",
   "metadata": {},
   "outputs": [],
   "source": [
    "for session in robot_sessions.hover_ab_meta:\n",
    "    try:\n",
    "        os.mkdir(f'../../data/robot/{session}')\n",
    "    except:\n",
    "        print(f'skipping {session}.')\n",
    "        continue\n",
    "    for log_fname in robot_sessions.hover_ab_meta[session]:\n",
    "        logs = process_logs.process_logs(f'/data/raspy/robot/{session}/robot_logs/{log_fname}')\n",
    "        dest_fname = log_fname.replace('.log', '.pickle')\n",
    "        with open(f'../../data/robot/{session}/{dest_fname}', 'wb') as f:\n",
    "            pickle.dump(logs, f)"
   ]
  }
 ],
 "metadata": {
  "kernelspec": {
   "display_name": "Python 3 (ipykernel)",
   "language": "python",
   "name": "python3"
  },
  "language_info": {
   "codemirror_mode": {
    "name": "ipython",
    "version": 3
   },
   "file_extension": ".py",
   "mimetype": "text/x-python",
   "name": "python",
   "nbconvert_exporter": "python",
   "pygments_lexer": "ipython3",
   "version": "3.8.10"
  }
 },
 "nbformat": 4,
 "nbformat_minor": 5
}
