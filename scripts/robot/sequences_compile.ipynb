{
 "cells": [
  {
   "cell_type": "code",
   "execution_count": 1,
   "id": "a20efa4a",
   "metadata": {},
   "outputs": [],
   "source": [
    "import numpy as np\n",
    "import matplotlib\n",
    "matplotlib.rcParams['pdf.fonttype'] = 42\n",
    "matplotlib.rcParams['ps.fonttype'] = 42\n",
    "import matplotlib.pyplot as plt\n",
    "import pickle\n",
    "import scipy.stats\n",
    "import itertools"
   ]
  },
  {
   "cell_type": "code",
   "execution_count": 2,
   "id": "6cf0cc60",
   "metadata": {},
   "outputs": [],
   "source": [
    "import traceback"
   ]
  },
  {
   "cell_type": "code",
   "execution_count": 3,
   "id": "2c13e334",
   "metadata": {},
   "outputs": [],
   "source": [
    "from bci_plot.gen_data.robot import process_logs\n",
    "from bci_plot.gen_data.robot import resample_logs\n",
    "from bci_plot.metadata import robot_random"
   ]
  },
  {
   "cell_type": "code",
   "execution_count": 4,
   "id": "deea8668",
   "metadata": {},
   "outputs": [],
   "source": [
    "import pathlib\n",
    "head = pathlib.Path('/data/raspy/robot')"
   ]
  },
  {
   "cell_type": "code",
   "execution_count": 5,
   "id": "14f587ca",
   "metadata": {},
   "outputs": [],
   "source": [
    "subjects = ['S2', 'H1', 'H2', 'H4']"
   ]
  },
  {
   "cell_type": "code",
   "execution_count": 6,
   "id": "a959adbf",
   "metadata": {},
   "outputs": [
    {
     "name": "stdout",
     "output_type": "stream",
     "text": [
      "S2 exp_2024-03-18_12-59-19 exp_2024-03-18_12-34-06.log [0]\n",
      "skipping movement_cum_dt for exp_2024-03-18_12-59-19, exp_2024-03-18_12-34-06.log\n",
      "skipping z_state for exp_2024-03-18_12-59-19, exp_2024-03-18_12-34-06.log\n",
      "skipping finished_reset for exp_2024-03-18_12-59-19, exp_2024-03-18_12-34-06.log\n",
      "skipping gripper_retval for exp_2024-03-18_12-59-19, exp_2024-03-18_12-34-06.log\n",
      "skipping gripper_state_at_ret for exp_2024-03-18_12-59-19, exp_2024-03-18_12-34-06.log\n",
      "skipping start_press for exp_2024-03-18_12-59-19, exp_2024-03-18_12-34-06.log\n",
      "skipping hover_state for exp_2024-03-18_12-59-19, exp_2024-03-18_12-34-06.log\n",
      "S2 exp_2024-03-18_12-59-19 exp_2024-03-18_12-44-36.log [0]\n",
      "skipping movement_cum_dt for exp_2024-03-18_12-59-19, exp_2024-03-18_12-44-36.log\n",
      "skipping z_state for exp_2024-03-18_12-59-19, exp_2024-03-18_12-44-36.log\n",
      "skipping finished_reset for exp_2024-03-18_12-59-19, exp_2024-03-18_12-44-36.log\n",
      "skipping gripper_retval for exp_2024-03-18_12-59-19, exp_2024-03-18_12-44-36.log\n",
      "skipping gripper_state_at_ret for exp_2024-03-18_12-59-19, exp_2024-03-18_12-44-36.log\n",
      "skipping start_press for exp_2024-03-18_12-59-19, exp_2024-03-18_12-44-36.log\n",
      "skipping hover_state for exp_2024-03-18_12-59-19, exp_2024-03-18_12-44-36.log\n",
      "S2 exp_2024-03-18_12-59-19 exp_2024-03-18_13-00-03.log [0, 1]\n",
      "skipping movement_cum_dt for exp_2024-03-18_12-59-19, exp_2024-03-18_13-00-03.log\n",
      "skipping z_state for exp_2024-03-18_12-59-19, exp_2024-03-18_13-00-03.log\n",
      "skipping finished_reset for exp_2024-03-18_12-59-19, exp_2024-03-18_13-00-03.log\n",
      "skipping gripper_retval for exp_2024-03-18_12-59-19, exp_2024-03-18_13-00-03.log\n",
      "skipping gripper_state_at_ret for exp_2024-03-18_12-59-19, exp_2024-03-18_13-00-03.log\n",
      "skipping start_press for exp_2024-03-18_12-59-19, exp_2024-03-18_13-00-03.log\n",
      "skipping hover_state for exp_2024-03-18_12-59-19, exp_2024-03-18_13-00-03.log\n",
      "skipping movement_cum_dt for exp_2024-03-18_12-59-19, exp_2024-03-18_13-00-03.log\n",
      "skipping z_state for exp_2024-03-18_12-59-19, exp_2024-03-18_13-00-03.log\n",
      "skipping finished_reset for exp_2024-03-18_12-59-19, exp_2024-03-18_13-00-03.log\n",
      "skipping gripper_retval for exp_2024-03-18_12-59-19, exp_2024-03-18_13-00-03.log\n",
      "skipping gripper_state_at_ret for exp_2024-03-18_12-59-19, exp_2024-03-18_13-00-03.log\n",
      "skipping start_press for exp_2024-03-18_12-59-19, exp_2024-03-18_13-00-03.log\n",
      "skipping hover_state for exp_2024-03-18_12-59-19, exp_2024-03-18_13-00-03.log\n",
      "keeping trajectory for  ('S2', 'exp_2024-03-18_12-59-19', 'exp_2024-03-18_13-00-03.log', 1)\n",
      "S2 exp_2024-05-01_12-21-58 exp_2024-05-01_12-25-05.log [0]\n",
      "skipping movement_cum_dt for exp_2024-05-01_12-21-58, exp_2024-05-01_12-25-05.log\n",
      "skipping z_state for exp_2024-05-01_12-21-58, exp_2024-05-01_12-25-05.log\n",
      "skipping gripper_retval for exp_2024-05-01_12-21-58, exp_2024-05-01_12-25-05.log\n",
      "skipping gripper_state_at_ret for exp_2024-05-01_12-21-58, exp_2024-05-01_12-25-05.log\n",
      "skipping start_press for exp_2024-05-01_12-21-58, exp_2024-05-01_12-25-05.log\n",
      "skipping hover_state for exp_2024-05-01_12-21-58, exp_2024-05-01_12-25-05.log\n",
      "S2 exp_2024-05-01_12-21-58 exp_2024-05-01_12-35-34.log [0]\n",
      "skipping movement_cum_dt for exp_2024-05-01_12-21-58, exp_2024-05-01_12-35-34.log\n",
      "skipping z_state for exp_2024-05-01_12-21-58, exp_2024-05-01_12-35-34.log\n",
      "skipping gripper_retval for exp_2024-05-01_12-21-58, exp_2024-05-01_12-35-34.log\n",
      "skipping gripper_state_at_ret for exp_2024-05-01_12-21-58, exp_2024-05-01_12-35-34.log\n",
      "skipping start_press for exp_2024-05-01_12-21-58, exp_2024-05-01_12-35-34.log\n",
      "skipping hover_state for exp_2024-05-01_12-21-58, exp_2024-05-01_12-35-34.log\n",
      "S2 exp_2024-05-01_12-21-58 exp_2024-05-01_12-45-59.log [0]\n",
      "skipping movement_cum_dt for exp_2024-05-01_12-21-58, exp_2024-05-01_12-45-59.log\n",
      "skipping z_state for exp_2024-05-01_12-21-58, exp_2024-05-01_12-45-59.log\n",
      "skipping gripper_retval for exp_2024-05-01_12-21-58, exp_2024-05-01_12-45-59.log\n",
      "skipping gripper_state_at_ret for exp_2024-05-01_12-21-58, exp_2024-05-01_12-45-59.log\n",
      "skipping start_press for exp_2024-05-01_12-21-58, exp_2024-05-01_12-45-59.log\n",
      "skipping hover_state for exp_2024-05-01_12-21-58, exp_2024-05-01_12-45-59.log\n",
      "H1 exp_2024-06-18_14-29-38 exp_2024-06-18_14-30-06.log [0, 1]\n",
      "H1 exp_2024-06-18_14-29-38 exp_2024-06-18_14-43-05.log []\n",
      "H1 exp_2024-06-18_14-47-00 exp_2024-06-18_14-47-22.log [0]\n",
      "H1 exp_2024-06-18_14-47-00 exp_2024-06-18_14-51-01.log [0, 1]\n",
      "H1 exp_2024-06-18_15-16-07 exp_2024-06-18_15-16-44.log [0, 1, 2, 3, 4, 6, 7]\n",
      "H1 exp_2024-06-18_15-16-07 exp_2024-06-18_15-43-19.log [2, 3, 4]\n",
      "H4 exp_2024-07-11_14-09-52 exp_2024-07-11_14-10-12.log [0, 1, 2, 3]\n",
      "H4 exp_2024-07-11_14-34-14 exp_2024-07-11_14-34-24.log [0, 1, 2, 4, 5]\n",
      "H4 exp_2024-07-11_14-34-14 exp_2024-07-11_14-59-33.log [0]\n",
      "H2 exp_2024-07-16_15-02-42 exp_2024-07-16_15-03-50.log [0, 1, 2, 3, 4]\n",
      "H2 exp_2024-07-16_15-02-42 exp_2024-07-16_15-41-45.log [0, 1, 2, 3, 4]\n"
     ]
    }
   ],
   "source": [
    "def get_total_movement_time(result, threshold=0.2):\n",
    "    try:\n",
    "        idxs = np.nonzero(result['movement_cum_dt'] == 0)[0]\n",
    "        idxs = idxs[idxs > 0]\n",
    "        out = result['movement_cum_dt'][idxs-1].sum()\n",
    "    except:\n",
    "        dts = np.diff(result['timestamp'])\n",
    "        out = dts[dts <= threshold].sum()\n",
    "    return out\n",
    "\n",
    "tick_variables = ['timestamp', 'qdot', 'action', 'movement_cum_dt', 'z_state', 'finished_reset', 'gripper', 'gripper_retval', 'gripper_state_at_ret', 'start_press', 'hover_state', 'xyz']\n",
    "results = {}\n",
    "try:\n",
    "    for subject, subject_sessions in robot_random.sequence_start_end.items():\n",
    "        results[subject] = []\n",
    "        for folder, item in subject_sessions.items():\n",
    "            for fname, keep_trials in item.items():\n",
    "                print(subject, folder, fname, keep_trials)\n",
    "                log = process_logs.process_logs(head / folder / 'robot_logs' / fname)\n",
    "                if folder in ['exp_2024-03-18_12-59-19', 'exp_2024-05-01_12-21-58']:\n",
    "                    resample_logs.resample_logs(log, robot_random.resample_start_end[folder][fname])\n",
    "                for trial_index in keep_trials:\n",
    "                    start, end = log['trial_start_idx'][trial_index], log['trial_end_idx'][trial_index]\n",
    "                    tmp = {}\n",
    "\n",
    "                    for key in tick_variables:\n",
    "                        try:\n",
    "                            tmp[key] = log[key][start:end].copy()\n",
    "                        except:\n",
    "                            print(f'skipping {key} for {folder}, {fname}')\n",
    "                    tmp['trial_time'] = log['timestamp'][end-1] - log['timestamp'][start]\n",
    "                    \n",
    "                    try:\n",
    "                        tmp['n_actions'] = (log['gripper_retval'][start:end] != -1).sum()\n",
    "                    except:\n",
    "                        # legacy for 2024-03-18\n",
    "                        tmp['n_actions'] = np.isin(log['gripper'][start:end], [2, 3]).sum()\n",
    "                    tmp['total_movement_time'] = get_total_movement_time(tmp)\n",
    "                    \n",
    "                    tmp['all_objs_list'], tmp['all_objs_ids'], tmp['all_objs_idx'] = log['all_objs_list'], log['all_objs_ids'], log['all_objs_idx']\n",
    "                    tmp['start'] = start\n",
    "                    tmp['end'] = end\n",
    "                    \n",
    "                    if (subject, folder, fname, trial_index) == robot_random.trajectory_info:\n",
    "                        print('keeping trajectory for ', (subject, folder, fname, trial_index))\n",
    "                    else:\n",
    "                        for key in tick_variables:\n",
    "                            try:\n",
    "                                del tmp[key]\n",
    "                            except:\n",
    "                                pass\n",
    "                    results[subject].append(tmp)\n",
    "except Exception as e:\n",
    "    print(e, traceback.format_exc())\n",
    "    pass"
   ]
  },
  {
   "cell_type": "code",
   "execution_count": 7,
   "id": "271444bb",
   "metadata": {},
   "outputs": [],
   "source": [
    "with open('../../data/robot_compiled/sequences_compiled_stats.pickle', 'wb') as f:\n",
    "    pickle.dump(results, f)"
   ]
  },
  {
   "cell_type": "code",
   "execution_count": null,
   "id": "93247463",
   "metadata": {},
   "outputs": [],
   "source": []
  }
 ],
 "metadata": {
  "kernelspec": {
   "display_name": "Python 3 (ipykernel)",
   "language": "python",
   "name": "python3"
  },
  "language_info": {
   "codemirror_mode": {
    "name": "ipython",
    "version": 3
   },
   "file_extension": ".py",
   "mimetype": "text/x-python",
   "name": "python",
   "nbconvert_exporter": "python",
   "pygments_lexer": "ipython3",
   "version": "3.8.10"
  }
 },
 "nbformat": 4,
 "nbformat_minor": 5
}
