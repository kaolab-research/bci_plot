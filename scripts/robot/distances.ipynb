{
 "cells": [
  {
   "cell_type": "code",
   "execution_count": 2,
   "id": "ee7d6978",
   "metadata": {},
   "outputs": [],
   "source": [
    "import numpy as np\n",
    "import matplotlib\n",
    "matplotlib.rcParams['pdf.fonttype'] = 42\n",
    "matplotlib.rcParams['ps.fonttype'] = 42\n",
    "import matplotlib.pyplot as plt\n",
    "import pickle\n",
    "import scipy.stats\n",
    "import itertools"
   ]
  },
  {
   "cell_type": "code",
   "execution_count": 3,
   "id": "52296936",
   "metadata": {},
   "outputs": [],
   "source": [
    "#from bci_plot.metadata import robot_sessions"
   ]
  },
  {
   "cell_type": "code",
   "execution_count": 4,
   "id": "08c4087d",
   "metadata": {},
   "outputs": [],
   "source": [
    "from bci_plot.gen_data.robot import process_logs"
   ]
  },
  {
   "cell_type": "code",
   "execution_count": 6,
   "id": "3a698411",
   "metadata": {},
   "outputs": [],
   "source": [
    "part_logs = process_logs.process_logs('/data/raspy/robot/exp_2024-06-06_12-11-27/robot_logs/exp_2024-06-06_12-13-46.log')"
   ]
  },
  {
   "cell_type": "code",
   "execution_count": 8,
   "id": "693f4f55",
   "metadata": {},
   "outputs": [
    {
     "data": {
      "text/plain": [
       "dict_keys(['timestamp', 'qdot', 'action', 'z_state', 'finished_reset', 'gripper', 'gripper_retval', 'gripper_state_at_ret', 'start_press', 'hover_state', 'xyz', 'trial_start_idx', 'trial_end_idx', 'trial_end_condition', 'all_objs', 'all_ids', 'all_objs_list', 'all_objs_idx', 'all_objs_ids', 'all_objs_len'])"
      ]
     },
     "execution_count": 8,
     "metadata": {},
     "output_type": "execute_result"
    }
   ],
   "source": [
    "part_logs.keys()"
   ]
  },
  {
   "cell_type": "code",
   "execution_count": 11,
   "id": "a93d82bb",
   "metadata": {},
   "outputs": [
    {
     "data": {
      "text/plain": [
       "[<matplotlib.lines.Line2D at 0x7f1d2b1212e0>]"
      ]
     },
     "execution_count": 11,
     "metadata": {},
     "output_type": "execute_result"
    },
    {
     "data": {
      "image/png": "[encoded data removed]",
      "text/plain": [
       "<Figure size 432x288 with 1 Axes>"
      ]
     },
     "metadata": {
      "needs_background": "light"
     },
     "output_type": "display_data"
    }
   ],
   "source": [
    "plt.plot(part_logs['all_objs_idx'], '.-')"
   ]
  },
  {
   "cell_type": "code",
   "execution_count": 15,
   "id": "0c62dedb",
   "metadata": {},
   "outputs": [
    {
     "data": {
      "image/png": "[encoded data removed]",
      "text/plain": [
       "<Figure size 432x288 with 1 Axes>"
      ]
     },
     "metadata": {
      "needs_background": "light"
     },
     "output_type": "display_data"
    }
   ],
   "source": [
    "for i in range(10):\n",
    "    _ = plt.scatter(*part_logs['all_objs_list'][i].T)"
   ]
  },
  {
   "cell_type": "code",
   "execution_count": 20,
   "id": "55a1d3fb",
   "metadata": {},
   "outputs": [
    {
     "name": "stdout",
     "output_type": "stream",
     "text": [
      "[[0.38682934641838074, -0.1740393340587616], [0.3877773582935333, -0.051953934133052826], [0.39206624031066895, 0.08739042282104492], [0.3952048718929291, 0.21041695773601532]]\n",
      "[[0.6748749017715454, -0.17874546349048615], [0.6739190816879272, -0.05823232978582382], [0.6722318530082703, 0.0752374678850174], [0.6744784712791443, 0.207249715924263]]\n"
     ]
    }
   ],
   "source": [
    "pts = part_logs['all_objs_list'][0]\n",
    "print(sorted(pts[pts[:, 0] < 0.5].tolist(), key=lambda x: x[1]))\n",
    "print(sorted(pts[pts[:, 0] >= 0.5].tolist(), key=lambda x: x[1]))"
   ]
  },
  {
   "cell_type": "code",
   "execution_count": 22,
   "id": "dde784fb",
   "metadata": {},
   "outputs": [
    {
     "data": {
      "text/plain": [
       "array([0.12208908, 0.13941035, 0.12306656])"
      ]
     },
     "execution_count": 22,
     "metadata": {},
     "output_type": "execute_result"
    }
   ],
   "source": [
    "np.linalg.norm(np.diff(np.array(sorted(pts[pts[:, 0] < 0.5].tolist(), key=lambda x: x[1])), axis=0), axis=-1)"
   ]
  },
  {
   "cell_type": "code",
   "execution_count": 23,
   "id": "1dbcc030",
   "metadata": {},
   "outputs": [
    {
     "data": {
      "text/plain": [
       "array([0.12051692, 0.13348046, 0.13203136])"
      ]
     },
     "execution_count": 23,
     "metadata": {},
     "output_type": "execute_result"
    }
   ],
   "source": [
    "np.linalg.norm(np.diff(np.array(sorted(pts[pts[:, 0] >= 0.5].tolist(), key=lambda x: x[1])), axis=0), axis=-1)"
   ]
  },
  {
   "cell_type": "code",
   "execution_count": 25,
   "id": "9a50bb2a",
   "metadata": {},
   "outputs": [
    {
     "data": {
      "text/plain": [
       "array([0.288084  , 0.28621059, 0.28042907, 0.27929156])"
      ]
     },
     "execution_count": 25,
     "metadata": {},
     "output_type": "execute_result"
    }
   ],
   "source": [
    "np.linalg.norm(np.array(sorted(pts[pts[:, 0] < 0.5].tolist(), key=lambda x: x[1])) - np.array(sorted(pts[pts[:, 0] >= 0.5].tolist(), key=lambda x: x[1])), axis=-1)"
   ]
  },
  {
   "cell_type": "code",
   "execution_count": null,
   "id": "1662cff2",
   "metadata": {},
   "outputs": [],
   "source": []
  }
 ],
 "metadata": {
  "kernelspec": {
   "display_name": "Python 3 (ipykernel)",
   "language": "python",
   "name": "python3"
  },
  "language_info": {
   "codemirror_mode": {
    "name": "ipython",
    "version": 3
   },
   "file_extension": ".py",
   "mimetype": "text/x-python",
   "name": "python",
   "nbconvert_exporter": "python",
   "pygments_lexer": "ipython3",
   "version": "3.8.10"
  }
 },
 "nbformat": 4,
 "nbformat_minor": 5
}
