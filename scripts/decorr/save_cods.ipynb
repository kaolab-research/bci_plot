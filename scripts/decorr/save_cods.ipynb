{
 "cells": [
  {
   "cell_type": "code",
   "execution_count": 1,
   "id": "4497f60e",
   "metadata": {},
   "outputs": [],
   "source": [
    "import numpy as np\n",
    "import matplotlib.pyplot as plt\n",
    "import pickle"
   ]
  },
  {
   "cell_type": "code",
   "execution_count": 2,
   "id": "737d53b6",
   "metadata": {},
   "outputs": [],
   "source": [
    "from bci_plot.utils import data_util\n",
    "from bci_plot.metadata import decorr_info\n",
    "from bci_plot.gen_data.decorr import gen_decorr_cod"
   ]
  },
  {
   "cell_type": "code",
   "execution_count": null,
   "id": "374730bc",
   "metadata": {},
   "outputs": [],
   "source": []
  },
  {
   "cell_type": "code",
   "execution_count": 3,
   "id": "10c0f12c",
   "metadata": {
    "scrolled": false
   },
   "outputs": [
    {
     "name": "stderr",
     "output_type": "stream",
     "text": [
      "100%|███████████████████████████████████████████████████████████████| 51/51 [00:14<00:00,  3.60it/s]\n",
      "100%|███████████████████████████████████████████████████████████████| 51/51 [00:13<00:00,  3.82it/s]\n",
      "100%|███████████████████████████████████████████████████████████████| 51/51 [00:13<00:00,  3.74it/s]\n",
      "100%|███████████████████████████████████████████████████████████████| 51/51 [00:07<00:00,  7.28it/s]\n",
      "100%|███████████████████████████████████████████████████████████████| 51/51 [00:13<00:00,  3.72it/s]\n",
      "100%|███████████████████████████████████████████████████████████████| 51/51 [00:05<00:00,  9.31it/s]\n",
      "100%|███████████████████████████████████████████████████████████████| 51/51 [00:15<00:00,  3.21it/s]\n",
      "100%|███████████████████████████████████████████████████████████████| 51/51 [00:15<00:00,  3.31it/s]\n",
      "100%|███████████████████████████████████████████████████████████████| 51/51 [00:14<00:00,  3.50it/s]\n"
     ]
    }
   ],
   "source": [
    "for session in decorr_info.decorr_sessions:\n",
    "    cods = gen_decorr_cod.gen_decorr_cod(session, device=1, run_mlp=False)\n",
    "    fname = f'../../data/decorr/{session}_decorr_bystate.pickle'\n",
    "    with open(fname, 'wb') as f:\n",
    "        pickle.dump(cods, f)"
   ]
  },
  {
   "cell_type": "code",
   "execution_count": 3,
   "id": "af81a608",
   "metadata": {},
   "outputs": [
    {
     "name": "stderr",
     "output_type": "stream",
     "text": [
      "100%|███████████████████████████████████████████████████████████████| 51/51 [00:00<00:00, 84.92it/s]\n",
      "100%|███████████████████████████████████████████████████████████████| 51/51 [00:00<00:00, 94.32it/s]\n",
      "100%|███████████████████████████████████████████████████████████████| 51/51 [00:00<00:00, 85.10it/s]\n",
      "100%|██████████████████████████████████████████████████████████████| 51/51 [00:00<00:00, 126.99it/s]\n",
      "100%|███████████████████████████████████████████████████████████████| 51/51 [00:00<00:00, 84.09it/s]\n",
      "100%|██████████████████████████████████████████████████████████████| 51/51 [00:00<00:00, 246.47it/s]\n",
      "100%|███████████████████████████████████████████████████████████████| 51/51 [00:00<00:00, 79.43it/s]\n",
      "100%|███████████████████████████████████████████████████████████████| 51/51 [00:00<00:00, 71.71it/s]\n",
      "100%|███████████████████████████████████████████████████████████████| 51/51 [00:00<00:00, 80.84it/s]\n"
     ]
    }
   ],
   "source": [
    "for session in decorr_info.decorr_sessions:\n",
    "    cods = gen_decorr_cod.gen_decorr_corrs(session, device=1, run_mlp=False)\n",
    "    fname = f'../../data/decorr/{session}_corrs.pickle'\n",
    "    with open(fname, 'wb') as f:\n",
    "        pickle.dump(cods, f)"
   ]
  },
  {
   "cell_type": "code",
   "execution_count": null,
   "id": "3878a173",
   "metadata": {},
   "outputs": [],
   "source": []
  }
 ],
 "metadata": {
  "kernelspec": {
   "display_name": "Python 3 (ipykernel)",
   "language": "python",
   "name": "python3"
  },
  "language_info": {
   "codemirror_mode": {
    "name": "ipython",
    "version": 3
   },
   "file_extension": ".py",
   "mimetype": "text/x-python",
   "name": "python",
   "nbconvert_exporter": "python",
   "pygments_lexer": "ipython3",
   "version": "3.8.10"
  }
 },
 "nbformat": 4,
 "nbformat_minor": 5
}
