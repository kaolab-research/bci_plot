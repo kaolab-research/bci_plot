{
 "cells": [
  {
   "cell_type": "code",
   "execution_count": 1,
   "id": "1c3e7092",
   "metadata": {},
   "outputs": [
    {
     "name": "stderr",
     "output_type": "stream",
     "text": [
      "/home2/johannes/bci_plot/bci_plot/gen_fig/grad/gen_grad_fig.py:27: RuntimeWarning: Fiducial point nasion not found, assuming identity unknown to head transformation\n",
      "  _ = info.set_montage(montage)\n"
     ]
    }
   ],
   "source": [
    "import os\n",
    "import sys\n",
    "import pathlib\n",
    "\n",
    "import yaml\n",
    "try:\n",
    "    from yaml import CLoader as Loader, CDumper as Dumper\n",
    "except ImportError:\n",
    "    from yaml import Loader, Dumper\n",
    "\n",
    "    \n",
    "import numpy as np\n",
    "import matplotlib\n",
    "matplotlib.rcParams['pdf.fonttype'] = 42\n",
    "matplotlib.rcParams['ps.fonttype'] = 42\n",
    "import matplotlib.pyplot as plt\n",
    "import matplotlib.cm\n",
    "\n",
    "cm = plt.get_cmap('bwr').copy()\n",
    "cm.set_bad('k', alpha=0.1)\n",
    "\n",
    "from bci_plot.metadata import sessions_info_w_day\n",
    "from bci_plot.metadata import layouts\n",
    "layout = layouts.layouts['wet64']\n",
    "from bci_plot.gen_data.grad import instantiate\n",
    "from bci_plot.gen_data.grad.EEGNet_grad import EEGNet\n",
    "\n",
    "from bci_plot.gen_fig.grad import gen_grad_fig"
   ]
  },
  {
   "cell_type": "code",
   "execution_count": 2,
   "id": "f82dbd01",
   "metadata": {},
   "outputs": [],
   "source": [
    "sessions, decoders, folds, subjects, days, *_ = list(zip(*sessions_info_w_day.sessions_info))\n",
    "doubles = sorted(list(set(list(zip(subjects, decoders)))))\n",
    "triplets = sorted(list(set(list(zip(subjects, decoders, days)))))"
   ]
  },
  {
   "cell_type": "code",
   "execution_count": 4,
   "id": "9690249c",
   "metadata": {
    "scrolled": false
   },
   "outputs": [],
   "source": [
    "# split by user\n",
    "# 4 plots only.\n",
    "\n",
    "for subject_u in sorted(set(subjects)):\n",
    "    sessions_compile = [session for (session, subject, decoder, day) in zip(sessions, subjects, decoders, days) if (subject,) == (subject_u,)]\n",
    "    \n",
    "    grad_data_compile = [np.load(f'../../data/grad_vals/{session}.npz') for session in sessions_compile]\n",
    "    F1 = grad_data_compile[0]['conv_weights'].shape[0]\n",
    "    D = grad_data_compile[0]['depthwise_weights'].shape[0] / F1\n",
    "    D = int(D)\n",
    "    Ls = [grad_data['L'] for grad_data in grad_data_compile]\n",
    "    LL = sum(Ls)\n",
    "\n",
    "    channel_scale_grad = np.zeros_like(grad_data_compile[0]['channel_scale_grad'])\n",
    "\n",
    "    for session, grad_data in zip(sessions_compile, grad_data_compile):\n",
    "        channel_scale_grad += (grad_data['L']/LL)*grad_data['channel_scale_grad']\n",
    "\n",
    "    # plot stuff\n",
    "    path = f'../../figs/grad_figs/by_user/{subject_u}_grad.pdf'\n",
    "    \n",
    "    gen_grad_fig.gen_topo_partial(channel_scale_grad, path)\n",
    "    plt.close()"
   ]
  },
  {
   "cell_type": "code",
   "execution_count": null,
   "id": "6229d0c7",
   "metadata": {},
   "outputs": [],
   "source": []
  }
 ],
 "metadata": {
  "kernelspec": {
   "display_name": "Python 3 (ipykernel)",
   "language": "python",
   "name": "python3"
  },
  "language_info": {
   "codemirror_mode": {
    "name": "ipython",
    "version": 3
   },
   "file_extension": ".py",
   "mimetype": "text/x-python",
   "name": "python",
   "nbconvert_exporter": "python",
   "pygments_lexer": "ipython3",
   "version": "3.8.10"
  }
 },
 "nbformat": 4,
 "nbformat_minor": 5
}
